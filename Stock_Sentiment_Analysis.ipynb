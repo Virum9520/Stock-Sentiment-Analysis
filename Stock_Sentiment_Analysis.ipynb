{
  "cells": [
    {
      "cell_type": "markdown",
      "metadata": {
        "id": "view-in-github",
        "colab_type": "text"
      },
      "source": [
        "<a href=\"https://colab.research.google.com/github/Virum9520/Stock-Sentiment-Analysis/blob/main/Stock_Sentiment_Analysis.ipynb\" target=\"_parent\"><img src=\"https://colab.research.google.com/assets/colab-badge.svg\" alt=\"Open In Colab\"/></a>"
      ]
    },
    {
      "cell_type": "markdown",
      "source": [
        "#STOCK SENTIMENT ANALYSIS using News Headlines data"
      ],
      "metadata": {
        "collapsed": false,
        "id": "57b28bde68705ba0"
      },
      "id": "57b28bde68705ba0"
    },
    {
      "cell_type": "markdown",
      "source": [
        "##This dataset is a combination of the world news and stock price shifts available on Kaggle.\n",
        "##There are 25 columns of top news headlines for each day in the dataframe.\n",
        "##Data ranges from 2008 to 2016 and the data from 2000 to 2008.\n",
        "##Labels are based on the Dow Jones Industrial Average stock index.\n",
        "##Class = 1, means the stock price increased.\n",
        "##Class = 0, means the stock price stayed the same or decreased."
      ],
      "metadata": {
        "collapsed": false,
        "id": "8974f3fd133b46a8"
      },
      "id": "8974f3fd133b46a8"
    },
    {
      "cell_type": "code",
      "execution_count": null,
      "outputs": [],
      "source": [
        "import pandas as pd"
      ],
      "metadata": {
        "ExecuteTime": {
          "end_time": "2023-08-31T19:06:03.474742Z",
          "start_time": "2023-08-31T19:06:03.264515Z"
        },
        "id": "ddb58f00cce8261"
      },
      "id": "ddb58f00cce8261"
    },
    {
      "cell_type": "code",
      "execution_count": null,
      "outputs": [],
      "source": [
        "df = pd.read_csv('Data.csv', encoding=\"ISO-8859-1\")"
      ],
      "metadata": {
        "ExecuteTime": {
          "end_time": "2023-08-31T19:06:03.650517Z",
          "start_time": "2023-08-31T19:06:03.573953Z"
        },
        "id": "be0f569863b92809"
      },
      "id": "be0f569863b92809"
    },
    {
      "cell_type": "code",
      "execution_count": null,
      "outputs": [
        {
          "data": {
            "text/plain": "         Date  Label                                               Top1  \\\n0  2000-01-03      0  A 'hindrance to operations': extracts from the...   \n1  2000-01-04      0                                          Scorecard   \n2  2000-01-05      0                  Coventry caught on counter by Flo   \n3  2000-01-06      1                      Pilgrim knows how to progress   \n4  2000-01-07      1                               Hitches and Horlocks   \n\n                                 Top2  \\\n0                           Scorecard   \n1                 The best lake scene   \n2  United's rivals on the road to Rio   \n3                 Thatcher facing ban   \n4      Beckham off but United survive   \n\n                                            Top3  \\\n0                Hughes' instant hit buoys Blues   \n1                  Leader: German sleaze inquiry   \n2  Thatcher issues defence before trial by video   \n3        McIlroy calls for Irish fighting spirit   \n4                        Breast cancer screening   \n\n                                            Top4  \\\n0       Jack gets his skates on at ice-cold Alex   \n1                                  Cheerio, boyo   \n2  Police help Smith lay down the law at Everton   \n3                Leicester bin stadium blueprint   \n4                                    Alan Parker   \n\n                                          Top5  \\\n0       Chaos as Maracana builds up for United   \n1                     The main recommendations   \n2  Tale of Trautmann bears two more retellings   \n3               United braced for Mexican wave   \n4      Guardian readers: are you all whingers?   \n\n                                                Top6  \\\n0  Depleted Leicester prevail as Elliott spoils E...   \n1                             Has Cubie killed fees?   \n2                                England on the rack   \n3  Auntie back in fashion, even if the dress look...   \n4                                   Hollywood Beyond   \n\n                                              Top7  \\\n0                 Hungry Spurs sense rich pickings   \n1                           Has Cubie killed fees?   \n2  Pakistan retaliate with call for video of Walsh   \n3                    Shoaib appeal goes to the top   \n4                               Ashes and diamonds   \n\n                                                Top8  ...  \\\n0                  Gunners so wide of an easy target  ...   \n1                             Has Cubie killed fees?  ...   \n2               Cullinan continues his Cape monopoly  ...   \n3  Hussain hurt by 'shambles' but lays blame on e...  ...   \n4                   Whingers - a formidable minority  ...   \n\n                                               Top16  \\\n0           Flintoff injury piles on woe for England   \n1                               On the critical list   \n2                        South Melbourne (Australia)   \n3  Putin admits Yeltsin quit to give him a head s...   \n4                             Most everywhere:  UDIs   \n\n                                               Top17  \\\n0  Hunters threaten Jospin with new battle of the...   \n1                          The timing of their lives   \n2                                    Necaxa (Mexico)   \n3         BBC worst hit as digital TV begins to bite   \n4                       Most wanted:  Chloe lunettes   \n\n                                            Top18  \\\n0             Kohl's successor drawn into scandal   \n1                                     Dear doctor   \n2                             Real Madrid (Spain)   \n3                     How much can you pay for...   \n4  Return of the cane 'completely off the agenda'   \n\n                                               Top19  \\\n0               The difference between men and women   \n1  Irish court halts IRA man's extradition to Nor...   \n2                          Raja Casablanca (Morocco)   \n3                                 Christmas glitches   \n4                   From Sleepy Hollow to Greeneland   \n\n                                               Top20  \\\n0                Sara Denver, nurse turned solicitor   \n1  Burundi peace initiative fades after rebels re...   \n2                               Corinthians (Brazil)   \n3  Upending a table, Chopping a line and Scoring ...   \n4              Blunkett outlines vision for over 11s   \n\n                                               Top21  \\\n0     Diana's landmine crusade put Tories in a panic   \n1               PE points the way forward to the ECB   \n2                                 Tony's pet project   \n3   Scientific evidence 'unreliable', defence claims   \n4  Embattled Dobson attacks 'play now, pay later'...   \n\n                                               Top22  \\\n0  Yeltsin's resignation caught opposition flat-f...   \n1  Campaigners keep up pressure on Nazi war crime...   \n2                            Al Nassr (Saudi Arabia)   \n3     Fusco wins judicial review in extradition case   \n4                                  Doom and the Dome   \n\n                             Top23  \\\n0                 Russian roulette   \n1                   Jane Ratcliffe   \n2                Ideal Holmes show   \n3    Rebels thwart Russian advance   \n4  What is the north-south divide?   \n\n                                               Top24  \\\n0                                           Sold out   \n1  Yet more things you wouldn't know without the ...   \n2               Pinochet leaves hospital after tests   \n3               Blair orders shake-up of failing NHS   \n4                          Aitken released from jail   \n\n                          Top25  \n0            Recovering a title  \n1  Millennium bug fails to bite  \n2                  Useful links  \n3   Lessons of law's hard heart  \n4                    Gone aloft  \n\n[5 rows x 27 columns]",
            "text/html": "<div>\n<style scoped>\n    .dataframe tbody tr th:only-of-type {\n        vertical-align: middle;\n    }\n\n    .dataframe tbody tr th {\n        vertical-align: top;\n    }\n\n    .dataframe thead th {\n        text-align: right;\n    }\n</style>\n<table border=\"1\" class=\"dataframe\">\n  <thead>\n    <tr style=\"text-align: right;\">\n      <th></th>\n      <th>Date</th>\n      <th>Label</th>\n      <th>Top1</th>\n      <th>Top2</th>\n      <th>Top3</th>\n      <th>Top4</th>\n      <th>Top5</th>\n      <th>Top6</th>\n      <th>Top7</th>\n      <th>Top8</th>\n      <th>...</th>\n      <th>Top16</th>\n      <th>Top17</th>\n      <th>Top18</th>\n      <th>Top19</th>\n      <th>Top20</th>\n      <th>Top21</th>\n      <th>Top22</th>\n      <th>Top23</th>\n      <th>Top24</th>\n      <th>Top25</th>\n    </tr>\n  </thead>\n  <tbody>\n    <tr>\n      <th>0</th>\n      <td>2000-01-03</td>\n      <td>0</td>\n      <td>A 'hindrance to operations': extracts from the...</td>\n      <td>Scorecard</td>\n      <td>Hughes' instant hit buoys Blues</td>\n      <td>Jack gets his skates on at ice-cold Alex</td>\n      <td>Chaos as Maracana builds up for United</td>\n      <td>Depleted Leicester prevail as Elliott spoils E...</td>\n      <td>Hungry Spurs sense rich pickings</td>\n      <td>Gunners so wide of an easy target</td>\n      <td>...</td>\n      <td>Flintoff injury piles on woe for England</td>\n      <td>Hunters threaten Jospin with new battle of the...</td>\n      <td>Kohl's successor drawn into scandal</td>\n      <td>The difference between men and women</td>\n      <td>Sara Denver, nurse turned solicitor</td>\n      <td>Diana's landmine crusade put Tories in a panic</td>\n      <td>Yeltsin's resignation caught opposition flat-f...</td>\n      <td>Russian roulette</td>\n      <td>Sold out</td>\n      <td>Recovering a title</td>\n    </tr>\n    <tr>\n      <th>1</th>\n      <td>2000-01-04</td>\n      <td>0</td>\n      <td>Scorecard</td>\n      <td>The best lake scene</td>\n      <td>Leader: German sleaze inquiry</td>\n      <td>Cheerio, boyo</td>\n      <td>The main recommendations</td>\n      <td>Has Cubie killed fees?</td>\n      <td>Has Cubie killed fees?</td>\n      <td>Has Cubie killed fees?</td>\n      <td>...</td>\n      <td>On the critical list</td>\n      <td>The timing of their lives</td>\n      <td>Dear doctor</td>\n      <td>Irish court halts IRA man's extradition to Nor...</td>\n      <td>Burundi peace initiative fades after rebels re...</td>\n      <td>PE points the way forward to the ECB</td>\n      <td>Campaigners keep up pressure on Nazi war crime...</td>\n      <td>Jane Ratcliffe</td>\n      <td>Yet more things you wouldn't know without the ...</td>\n      <td>Millennium bug fails to bite</td>\n    </tr>\n    <tr>\n      <th>2</th>\n      <td>2000-01-05</td>\n      <td>0</td>\n      <td>Coventry caught on counter by Flo</td>\n      <td>United's rivals on the road to Rio</td>\n      <td>Thatcher issues defence before trial by video</td>\n      <td>Police help Smith lay down the law at Everton</td>\n      <td>Tale of Trautmann bears two more retellings</td>\n      <td>England on the rack</td>\n      <td>Pakistan retaliate with call for video of Walsh</td>\n      <td>Cullinan continues his Cape monopoly</td>\n      <td>...</td>\n      <td>South Melbourne (Australia)</td>\n      <td>Necaxa (Mexico)</td>\n      <td>Real Madrid (Spain)</td>\n      <td>Raja Casablanca (Morocco)</td>\n      <td>Corinthians (Brazil)</td>\n      <td>Tony's pet project</td>\n      <td>Al Nassr (Saudi Arabia)</td>\n      <td>Ideal Holmes show</td>\n      <td>Pinochet leaves hospital after tests</td>\n      <td>Useful links</td>\n    </tr>\n    <tr>\n      <th>3</th>\n      <td>2000-01-06</td>\n      <td>1</td>\n      <td>Pilgrim knows how to progress</td>\n      <td>Thatcher facing ban</td>\n      <td>McIlroy calls for Irish fighting spirit</td>\n      <td>Leicester bin stadium blueprint</td>\n      <td>United braced for Mexican wave</td>\n      <td>Auntie back in fashion, even if the dress look...</td>\n      <td>Shoaib appeal goes to the top</td>\n      <td>Hussain hurt by 'shambles' but lays blame on e...</td>\n      <td>...</td>\n      <td>Putin admits Yeltsin quit to give him a head s...</td>\n      <td>BBC worst hit as digital TV begins to bite</td>\n      <td>How much can you pay for...</td>\n      <td>Christmas glitches</td>\n      <td>Upending a table, Chopping a line and Scoring ...</td>\n      <td>Scientific evidence 'unreliable', defence claims</td>\n      <td>Fusco wins judicial review in extradition case</td>\n      <td>Rebels thwart Russian advance</td>\n      <td>Blair orders shake-up of failing NHS</td>\n      <td>Lessons of law's hard heart</td>\n    </tr>\n    <tr>\n      <th>4</th>\n      <td>2000-01-07</td>\n      <td>1</td>\n      <td>Hitches and Horlocks</td>\n      <td>Beckham off but United survive</td>\n      <td>Breast cancer screening</td>\n      <td>Alan Parker</td>\n      <td>Guardian readers: are you all whingers?</td>\n      <td>Hollywood Beyond</td>\n      <td>Ashes and diamonds</td>\n      <td>Whingers - a formidable minority</td>\n      <td>...</td>\n      <td>Most everywhere:  UDIs</td>\n      <td>Most wanted:  Chloe lunettes</td>\n      <td>Return of the cane 'completely off the agenda'</td>\n      <td>From Sleepy Hollow to Greeneland</td>\n      <td>Blunkett outlines vision for over 11s</td>\n      <td>Embattled Dobson attacks 'play now, pay later'...</td>\n      <td>Doom and the Dome</td>\n      <td>What is the north-south divide?</td>\n      <td>Aitken released from jail</td>\n      <td>Gone aloft</td>\n    </tr>\n  </tbody>\n</table>\n<p>5 rows × 27 columns</p>\n</div>"
          },
          "execution_count": 5,
          "metadata": {},
          "output_type": "execute_result"
        }
      ],
      "source": [
        "df.head()"
      ],
      "metadata": {
        "ExecuteTime": {
          "end_time": "2023-08-31T19:06:04.228746Z",
          "start_time": "2023-08-31T19:06:04.221737Z"
        },
        "id": "9e41c7e1c64d5a9d",
        "outputId": "852f907b-96cf-45b5-ce44-6cb3e0b87747"
      },
      "id": "9e41c7e1c64d5a9d"
    },
    {
      "cell_type": "code",
      "execution_count": null,
      "outputs": [
        {
          "data": {
            "text/plain": "(4101, 27)"
          },
          "execution_count": 6,
          "metadata": {},
          "output_type": "execute_result"
        }
      ],
      "source": [
        "df.shape"
      ],
      "metadata": {
        "ExecuteTime": {
          "end_time": "2023-08-31T19:06:04.480984Z",
          "start_time": "2023-08-31T19:06:04.479059Z"
        },
        "id": "ecac9d943fb219b5",
        "outputId": "e3b7fcf4-5a10-4601-993b-94ad7e016060"
      },
      "id": "ecac9d943fb219b5"
    },
    {
      "cell_type": "code",
      "execution_count": null,
      "outputs": [],
      "source": [
        "train = df[df['Date'] < '20150101']\n",
        "test = df[df['Date'] > '20141231']"
      ],
      "metadata": {
        "ExecuteTime": {
          "end_time": "2023-08-31T19:06:04.740076Z",
          "start_time": "2023-08-31T19:06:04.735414Z"
        },
        "id": "2bc0debc9154112b"
      },
      "id": "2bc0debc9154112b"
    },
    {
      "cell_type": "code",
      "execution_count": null,
      "outputs": [],
      "source": [
        "data = train.iloc[:,2:27]"
      ],
      "metadata": {
        "ExecuteTime": {
          "end_time": "2023-08-31T19:06:05.114308Z",
          "start_time": "2023-08-31T19:06:05.107849Z"
        },
        "id": "ab58b396f17edd75"
      },
      "id": "ab58b396f17edd75"
    },
    {
      "cell_type": "code",
      "execution_count": null,
      "outputs": [],
      "source": [
        "data.replace(\"[^a-zA-Z]\", \" \", regex=True, inplace=True)"
      ],
      "metadata": {
        "ExecuteTime": {
          "end_time": "2023-08-31T19:06:05.652600Z",
          "start_time": "2023-08-31T19:06:05.432684Z"
        },
        "id": "1a6066bf53d91570"
      },
      "id": "1a6066bf53d91570"
    },
    {
      "cell_type": "code",
      "execution_count": null,
      "outputs": [
        {
          "data": {
            "text/plain": "                                                Top1  \\\n0  A  hindrance to operations   extracts from the...   \n1                                          Scorecard   \n2                  Coventry caught on counter by Flo   \n3                      Pilgrim knows how to progress   \n4                               Hitches and Horlocks   \n\n                                 Top2  \\\n0                           Scorecard   \n1                 The best lake scene   \n2  United s rivals on the road to Rio   \n3                 Thatcher facing ban   \n4      Beckham off but United survive   \n\n                                            Top3  \\\n0                Hughes  instant hit buoys Blues   \n1                  Leader  German sleaze inquiry   \n2  Thatcher issues defence before trial by video   \n3        McIlroy calls for Irish fighting spirit   \n4                        Breast cancer screening   \n\n                                            Top4  \\\n0       Jack gets his skates on at ice cold Alex   \n1                                  Cheerio  boyo   \n2  Police help Smith lay down the law at Everton   \n3                Leicester bin stadium blueprint   \n4                                    Alan Parker   \n\n                                          Top5  \\\n0       Chaos as Maracana builds up for United   \n1                     The main recommendations   \n2  Tale of Trautmann bears two more retellings   \n3               United braced for Mexican wave   \n4      Guardian readers  are you all whingers    \n\n                                                Top6  \\\n0  Depleted Leicester prevail as Elliott spoils E...   \n1                             Has Cubie killed fees    \n2                                England on the rack   \n3  Auntie back in fashion  even if the dress look...   \n4                                   Hollywood Beyond   \n\n                                              Top7  \\\n0                 Hungry Spurs sense rich pickings   \n1                           Has Cubie killed fees    \n2  Pakistan retaliate with call for video of Walsh   \n3                    Shoaib appeal goes to the top   \n4                               Ashes and diamonds   \n\n                                                Top8  \\\n0                  Gunners so wide of an easy target   \n1                             Has Cubie killed fees    \n2               Cullinan continues his Cape monopoly   \n3  Hussain hurt by  shambles  but lays blame on e...   \n4                   Whingers   a formidable minority   \n\n                                                Top9  \\\n0      Derby raise a glass to Strupar s debut double   \n1  Hopkins  furious  at Foster s lack of Hannibal...   \n2             McGrath puts India out of their misery   \n3                      England s decade of disasters   \n4                             Alan Parker   part two   \n\n                                      Top10  ...  \\\n0  Southgate strikes  Leeds pay the penalty  ...   \n1                    Has Cubie killed fees   ...   \n2            Blair Witch bandwagon rolls on  ...   \n3      Revenge is sweet for jubilant Cronje  ...   \n4                 Thuggery  Toxins and Ties  ...   \n\n                                               Top16  \\\n0           Flintoff injury piles on woe for England   \n1                               On the critical list   \n2                        South Melbourne  Australia    \n3  Putin admits Yeltsin quit to give him a head s...   \n4                             Most everywhere   UDIs   \n\n                                               Top17  \\\n0  Hunters threaten Jospin with new battle of the...   \n1                          The timing of their lives   \n2                                    Necaxa  Mexico    \n3         BBC worst hit as digital TV begins to bite   \n4                       Most wanted   Chloe lunettes   \n\n                                            Top18  \\\n0             Kohl s successor drawn into scandal   \n1                                     Dear doctor   \n2                             Real Madrid  Spain    \n3                     How much can you pay for      \n4  Return of the cane  completely off the agenda    \n\n                                               Top19  \\\n0               The difference between men and women   \n1  Irish court halts IRA man s extradition to Nor...   \n2                          Raja Casablanca  Morocco    \n3                                 Christmas glitches   \n4                   From Sleepy Hollow to Greeneland   \n\n                                               Top20  \\\n0                Sara Denver  nurse turned solicitor   \n1  Burundi peace initiative fades after rebels re...   \n2                               Corinthians  Brazil    \n3  Upending a table  Chopping a line and Scoring ...   \n4              Blunkett outlines vision for over   s   \n\n                                               Top21  \\\n0     Diana s landmine crusade put Tories in a panic   \n1               PE points the way forward to the ECB   \n2                                 Tony s pet project   \n3   Scientific evidence  unreliable   defence claims   \n4  Embattled Dobson attacks  play now  pay later ...   \n\n                                               Top22  \\\n0  Yeltsin s resignation caught opposition flat f...   \n1  Campaigners keep up pressure on Nazi war crime...   \n2                            Al Nassr  Saudi Arabia    \n3     Fusco wins judicial review in extradition case   \n4                                  Doom and the Dome   \n\n                             Top23  \\\n0                 Russian roulette   \n1                   Jane Ratcliffe   \n2                Ideal Holmes show   \n3    Rebels thwart Russian advance   \n4  What is the north south divide    \n\n                                               Top24  \\\n0                                           Sold out   \n1  Yet more things you wouldn t know without the ...   \n2               Pinochet leaves hospital after tests   \n3               Blair orders shake up of failing NHS   \n4                          Aitken released from jail   \n\n                          Top25  \n0            Recovering a title  \n1  Millennium bug fails to bite  \n2                  Useful links  \n3   Lessons of law s hard heart  \n4                    Gone aloft  \n\n[5 rows x 25 columns]",
            "text/html": "<div>\n<style scoped>\n    .dataframe tbody tr th:only-of-type {\n        vertical-align: middle;\n    }\n\n    .dataframe tbody tr th {\n        vertical-align: top;\n    }\n\n    .dataframe thead th {\n        text-align: right;\n    }\n</style>\n<table border=\"1\" class=\"dataframe\">\n  <thead>\n    <tr style=\"text-align: right;\">\n      <th></th>\n      <th>Top1</th>\n      <th>Top2</th>\n      <th>Top3</th>\n      <th>Top4</th>\n      <th>Top5</th>\n      <th>Top6</th>\n      <th>Top7</th>\n      <th>Top8</th>\n      <th>Top9</th>\n      <th>Top10</th>\n      <th>...</th>\n      <th>Top16</th>\n      <th>Top17</th>\n      <th>Top18</th>\n      <th>Top19</th>\n      <th>Top20</th>\n      <th>Top21</th>\n      <th>Top22</th>\n      <th>Top23</th>\n      <th>Top24</th>\n      <th>Top25</th>\n    </tr>\n  </thead>\n  <tbody>\n    <tr>\n      <th>0</th>\n      <td>A  hindrance to operations   extracts from the...</td>\n      <td>Scorecard</td>\n      <td>Hughes  instant hit buoys Blues</td>\n      <td>Jack gets his skates on at ice cold Alex</td>\n      <td>Chaos as Maracana builds up for United</td>\n      <td>Depleted Leicester prevail as Elliott spoils E...</td>\n      <td>Hungry Spurs sense rich pickings</td>\n      <td>Gunners so wide of an easy target</td>\n      <td>Derby raise a glass to Strupar s debut double</td>\n      <td>Southgate strikes  Leeds pay the penalty</td>\n      <td>...</td>\n      <td>Flintoff injury piles on woe for England</td>\n      <td>Hunters threaten Jospin with new battle of the...</td>\n      <td>Kohl s successor drawn into scandal</td>\n      <td>The difference between men and women</td>\n      <td>Sara Denver  nurse turned solicitor</td>\n      <td>Diana s landmine crusade put Tories in a panic</td>\n      <td>Yeltsin s resignation caught opposition flat f...</td>\n      <td>Russian roulette</td>\n      <td>Sold out</td>\n      <td>Recovering a title</td>\n    </tr>\n    <tr>\n      <th>1</th>\n      <td>Scorecard</td>\n      <td>The best lake scene</td>\n      <td>Leader  German sleaze inquiry</td>\n      <td>Cheerio  boyo</td>\n      <td>The main recommendations</td>\n      <td>Has Cubie killed fees</td>\n      <td>Has Cubie killed fees</td>\n      <td>Has Cubie killed fees</td>\n      <td>Hopkins  furious  at Foster s lack of Hannibal...</td>\n      <td>Has Cubie killed fees</td>\n      <td>...</td>\n      <td>On the critical list</td>\n      <td>The timing of their lives</td>\n      <td>Dear doctor</td>\n      <td>Irish court halts IRA man s extradition to Nor...</td>\n      <td>Burundi peace initiative fades after rebels re...</td>\n      <td>PE points the way forward to the ECB</td>\n      <td>Campaigners keep up pressure on Nazi war crime...</td>\n      <td>Jane Ratcliffe</td>\n      <td>Yet more things you wouldn t know without the ...</td>\n      <td>Millennium bug fails to bite</td>\n    </tr>\n    <tr>\n      <th>2</th>\n      <td>Coventry caught on counter by Flo</td>\n      <td>United s rivals on the road to Rio</td>\n      <td>Thatcher issues defence before trial by video</td>\n      <td>Police help Smith lay down the law at Everton</td>\n      <td>Tale of Trautmann bears two more retellings</td>\n      <td>England on the rack</td>\n      <td>Pakistan retaliate with call for video of Walsh</td>\n      <td>Cullinan continues his Cape monopoly</td>\n      <td>McGrath puts India out of their misery</td>\n      <td>Blair Witch bandwagon rolls on</td>\n      <td>...</td>\n      <td>South Melbourne  Australia</td>\n      <td>Necaxa  Mexico</td>\n      <td>Real Madrid  Spain</td>\n      <td>Raja Casablanca  Morocco</td>\n      <td>Corinthians  Brazil</td>\n      <td>Tony s pet project</td>\n      <td>Al Nassr  Saudi Arabia</td>\n      <td>Ideal Holmes show</td>\n      <td>Pinochet leaves hospital after tests</td>\n      <td>Useful links</td>\n    </tr>\n    <tr>\n      <th>3</th>\n      <td>Pilgrim knows how to progress</td>\n      <td>Thatcher facing ban</td>\n      <td>McIlroy calls for Irish fighting spirit</td>\n      <td>Leicester bin stadium blueprint</td>\n      <td>United braced for Mexican wave</td>\n      <td>Auntie back in fashion  even if the dress look...</td>\n      <td>Shoaib appeal goes to the top</td>\n      <td>Hussain hurt by  shambles  but lays blame on e...</td>\n      <td>England s decade of disasters</td>\n      <td>Revenge is sweet for jubilant Cronje</td>\n      <td>...</td>\n      <td>Putin admits Yeltsin quit to give him a head s...</td>\n      <td>BBC worst hit as digital TV begins to bite</td>\n      <td>How much can you pay for</td>\n      <td>Christmas glitches</td>\n      <td>Upending a table  Chopping a line and Scoring ...</td>\n      <td>Scientific evidence  unreliable   defence claims</td>\n      <td>Fusco wins judicial review in extradition case</td>\n      <td>Rebels thwart Russian advance</td>\n      <td>Blair orders shake up of failing NHS</td>\n      <td>Lessons of law s hard heart</td>\n    </tr>\n    <tr>\n      <th>4</th>\n      <td>Hitches and Horlocks</td>\n      <td>Beckham off but United survive</td>\n      <td>Breast cancer screening</td>\n      <td>Alan Parker</td>\n      <td>Guardian readers  are you all whingers</td>\n      <td>Hollywood Beyond</td>\n      <td>Ashes and diamonds</td>\n      <td>Whingers   a formidable minority</td>\n      <td>Alan Parker   part two</td>\n      <td>Thuggery  Toxins and Ties</td>\n      <td>...</td>\n      <td>Most everywhere   UDIs</td>\n      <td>Most wanted   Chloe lunettes</td>\n      <td>Return of the cane  completely off the agenda</td>\n      <td>From Sleepy Hollow to Greeneland</td>\n      <td>Blunkett outlines vision for over   s</td>\n      <td>Embattled Dobson attacks  play now  pay later ...</td>\n      <td>Doom and the Dome</td>\n      <td>What is the north south divide</td>\n      <td>Aitken released from jail</td>\n      <td>Gone aloft</td>\n    </tr>\n  </tbody>\n</table>\n<p>5 rows × 25 columns</p>\n</div>"
          },
          "execution_count": 10,
          "metadata": {},
          "output_type": "execute_result"
        }
      ],
      "source": [
        "data.head()"
      ],
      "metadata": {
        "ExecuteTime": {
          "end_time": "2023-08-31T19:06:05.660443Z",
          "start_time": "2023-08-31T19:06:05.657895Z"
        },
        "id": "4fc882d2b01218cb",
        "outputId": "c4875a80-b4f0-493c-cbc1-3bf374c6f981"
      },
      "id": "4fc882d2b01218cb"
    },
    {
      "cell_type": "code",
      "execution_count": null,
      "outputs": [],
      "source": [
        "Index_list = [str(i) for i in range(25)]\n",
        "data.columns = Index_list"
      ],
      "metadata": {
        "ExecuteTime": {
          "end_time": "2023-08-31T19:06:06.118595Z",
          "start_time": "2023-08-31T19:06:06.111487Z"
        },
        "id": "a43bbeb41da349b7"
      },
      "id": "a43bbeb41da349b7"
    },
    {
      "cell_type": "code",
      "execution_count": null,
      "outputs": [
        {
          "data": {
            "text/plain": "                                                   0  \\\n0  A  hindrance to operations   extracts from the...   \n1                                          Scorecard   \n2                  Coventry caught on counter by Flo   \n3                      Pilgrim knows how to progress   \n4                               Hitches and Horlocks   \n\n                                    1  \\\n0                           Scorecard   \n1                 The best lake scene   \n2  United s rivals on the road to Rio   \n3                 Thatcher facing ban   \n4      Beckham off but United survive   \n\n                                               2  \\\n0                Hughes  instant hit buoys Blues   \n1                  Leader  German sleaze inquiry   \n2  Thatcher issues defence before trial by video   \n3        McIlroy calls for Irish fighting spirit   \n4                        Breast cancer screening   \n\n                                               3  \\\n0       Jack gets his skates on at ice cold Alex   \n1                                  Cheerio  boyo   \n2  Police help Smith lay down the law at Everton   \n3                Leicester bin stadium blueprint   \n4                                    Alan Parker   \n\n                                             4  \\\n0       Chaos as Maracana builds up for United   \n1                     The main recommendations   \n2  Tale of Trautmann bears two more retellings   \n3               United braced for Mexican wave   \n4      Guardian readers  are you all whingers    \n\n                                                   5  \\\n0  Depleted Leicester prevail as Elliott spoils E...   \n1                             Has Cubie killed fees    \n2                                England on the rack   \n3  Auntie back in fashion  even if the dress look...   \n4                                   Hollywood Beyond   \n\n                                                 6  \\\n0                 Hungry Spurs sense rich pickings   \n1                           Has Cubie killed fees    \n2  Pakistan retaliate with call for video of Walsh   \n3                    Shoaib appeal goes to the top   \n4                               Ashes and diamonds   \n\n                                                   7  \\\n0                  Gunners so wide of an easy target   \n1                             Has Cubie killed fees    \n2               Cullinan continues his Cape monopoly   \n3  Hussain hurt by  shambles  but lays blame on e...   \n4                   Whingers   a formidable minority   \n\n                                                   8  \\\n0      Derby raise a glass to Strupar s debut double   \n1  Hopkins  furious  at Foster s lack of Hannibal...   \n2             McGrath puts India out of their misery   \n3                      England s decade of disasters   \n4                             Alan Parker   part two   \n\n                                          9  ...  \\\n0  Southgate strikes  Leeds pay the penalty  ...   \n1                    Has Cubie killed fees   ...   \n2            Blair Witch bandwagon rolls on  ...   \n3      Revenge is sweet for jubilant Cronje  ...   \n4                 Thuggery  Toxins and Ties  ...   \n\n                                                  15  \\\n0           Flintoff injury piles on woe for England   \n1                               On the critical list   \n2                        South Melbourne  Australia    \n3  Putin admits Yeltsin quit to give him a head s...   \n4                             Most everywhere   UDIs   \n\n                                                  16  \\\n0  Hunters threaten Jospin with new battle of the...   \n1                          The timing of their lives   \n2                                    Necaxa  Mexico    \n3         BBC worst hit as digital TV begins to bite   \n4                       Most wanted   Chloe lunettes   \n\n                                               17  \\\n0             Kohl s successor drawn into scandal   \n1                                     Dear doctor   \n2                             Real Madrid  Spain    \n3                     How much can you pay for      \n4  Return of the cane  completely off the agenda    \n\n                                                  18  \\\n0               The difference between men and women   \n1  Irish court halts IRA man s extradition to Nor...   \n2                          Raja Casablanca  Morocco    \n3                                 Christmas glitches   \n4                   From Sleepy Hollow to Greeneland   \n\n                                                  19  \\\n0                Sara Denver  nurse turned solicitor   \n1  Burundi peace initiative fades after rebels re...   \n2                               Corinthians  Brazil    \n3  Upending a table  Chopping a line and Scoring ...   \n4              Blunkett outlines vision for over   s   \n\n                                                  20  \\\n0     Diana s landmine crusade put Tories in a panic   \n1               PE points the way forward to the ECB   \n2                                 Tony s pet project   \n3   Scientific evidence  unreliable   defence claims   \n4  Embattled Dobson attacks  play now  pay later ...   \n\n                                                  21  \\\n0  Yeltsin s resignation caught opposition flat f...   \n1  Campaigners keep up pressure on Nazi war crime...   \n2                            Al Nassr  Saudi Arabia    \n3     Fusco wins judicial review in extradition case   \n4                                  Doom and the Dome   \n\n                                22  \\\n0                 Russian roulette   \n1                   Jane Ratcliffe   \n2                Ideal Holmes show   \n3    Rebels thwart Russian advance   \n4  What is the north south divide    \n\n                                                  23  \\\n0                                           Sold out   \n1  Yet more things you wouldn t know without the ...   \n2               Pinochet leaves hospital after tests   \n3               Blair orders shake up of failing NHS   \n4                          Aitken released from jail   \n\n                             24  \n0            Recovering a title  \n1  Millennium bug fails to bite  \n2                  Useful links  \n3   Lessons of law s hard heart  \n4                    Gone aloft  \n\n[5 rows x 25 columns]",
            "text/html": "<div>\n<style scoped>\n    .dataframe tbody tr th:only-of-type {\n        vertical-align: middle;\n    }\n\n    .dataframe tbody tr th {\n        vertical-align: top;\n    }\n\n    .dataframe thead th {\n        text-align: right;\n    }\n</style>\n<table border=\"1\" class=\"dataframe\">\n  <thead>\n    <tr style=\"text-align: right;\">\n      <th></th>\n      <th>0</th>\n      <th>1</th>\n      <th>2</th>\n      <th>3</th>\n      <th>4</th>\n      <th>5</th>\n      <th>6</th>\n      <th>7</th>\n      <th>8</th>\n      <th>9</th>\n      <th>...</th>\n      <th>15</th>\n      <th>16</th>\n      <th>17</th>\n      <th>18</th>\n      <th>19</th>\n      <th>20</th>\n      <th>21</th>\n      <th>22</th>\n      <th>23</th>\n      <th>24</th>\n    </tr>\n  </thead>\n  <tbody>\n    <tr>\n      <th>0</th>\n      <td>A  hindrance to operations   extracts from the...</td>\n      <td>Scorecard</td>\n      <td>Hughes  instant hit buoys Blues</td>\n      <td>Jack gets his skates on at ice cold Alex</td>\n      <td>Chaos as Maracana builds up for United</td>\n      <td>Depleted Leicester prevail as Elliott spoils E...</td>\n      <td>Hungry Spurs sense rich pickings</td>\n      <td>Gunners so wide of an easy target</td>\n      <td>Derby raise a glass to Strupar s debut double</td>\n      <td>Southgate strikes  Leeds pay the penalty</td>\n      <td>...</td>\n      <td>Flintoff injury piles on woe for England</td>\n      <td>Hunters threaten Jospin with new battle of the...</td>\n      <td>Kohl s successor drawn into scandal</td>\n      <td>The difference between men and women</td>\n      <td>Sara Denver  nurse turned solicitor</td>\n      <td>Diana s landmine crusade put Tories in a panic</td>\n      <td>Yeltsin s resignation caught opposition flat f...</td>\n      <td>Russian roulette</td>\n      <td>Sold out</td>\n      <td>Recovering a title</td>\n    </tr>\n    <tr>\n      <th>1</th>\n      <td>Scorecard</td>\n      <td>The best lake scene</td>\n      <td>Leader  German sleaze inquiry</td>\n      <td>Cheerio  boyo</td>\n      <td>The main recommendations</td>\n      <td>Has Cubie killed fees</td>\n      <td>Has Cubie killed fees</td>\n      <td>Has Cubie killed fees</td>\n      <td>Hopkins  furious  at Foster s lack of Hannibal...</td>\n      <td>Has Cubie killed fees</td>\n      <td>...</td>\n      <td>On the critical list</td>\n      <td>The timing of their lives</td>\n      <td>Dear doctor</td>\n      <td>Irish court halts IRA man s extradition to Nor...</td>\n      <td>Burundi peace initiative fades after rebels re...</td>\n      <td>PE points the way forward to the ECB</td>\n      <td>Campaigners keep up pressure on Nazi war crime...</td>\n      <td>Jane Ratcliffe</td>\n      <td>Yet more things you wouldn t know without the ...</td>\n      <td>Millennium bug fails to bite</td>\n    </tr>\n    <tr>\n      <th>2</th>\n      <td>Coventry caught on counter by Flo</td>\n      <td>United s rivals on the road to Rio</td>\n      <td>Thatcher issues defence before trial by video</td>\n      <td>Police help Smith lay down the law at Everton</td>\n      <td>Tale of Trautmann bears two more retellings</td>\n      <td>England on the rack</td>\n      <td>Pakistan retaliate with call for video of Walsh</td>\n      <td>Cullinan continues his Cape monopoly</td>\n      <td>McGrath puts India out of their misery</td>\n      <td>Blair Witch bandwagon rolls on</td>\n      <td>...</td>\n      <td>South Melbourne  Australia</td>\n      <td>Necaxa  Mexico</td>\n      <td>Real Madrid  Spain</td>\n      <td>Raja Casablanca  Morocco</td>\n      <td>Corinthians  Brazil</td>\n      <td>Tony s pet project</td>\n      <td>Al Nassr  Saudi Arabia</td>\n      <td>Ideal Holmes show</td>\n      <td>Pinochet leaves hospital after tests</td>\n      <td>Useful links</td>\n    </tr>\n    <tr>\n      <th>3</th>\n      <td>Pilgrim knows how to progress</td>\n      <td>Thatcher facing ban</td>\n      <td>McIlroy calls for Irish fighting spirit</td>\n      <td>Leicester bin stadium blueprint</td>\n      <td>United braced for Mexican wave</td>\n      <td>Auntie back in fashion  even if the dress look...</td>\n      <td>Shoaib appeal goes to the top</td>\n      <td>Hussain hurt by  shambles  but lays blame on e...</td>\n      <td>England s decade of disasters</td>\n      <td>Revenge is sweet for jubilant Cronje</td>\n      <td>...</td>\n      <td>Putin admits Yeltsin quit to give him a head s...</td>\n      <td>BBC worst hit as digital TV begins to bite</td>\n      <td>How much can you pay for</td>\n      <td>Christmas glitches</td>\n      <td>Upending a table  Chopping a line and Scoring ...</td>\n      <td>Scientific evidence  unreliable   defence claims</td>\n      <td>Fusco wins judicial review in extradition case</td>\n      <td>Rebels thwart Russian advance</td>\n      <td>Blair orders shake up of failing NHS</td>\n      <td>Lessons of law s hard heart</td>\n    </tr>\n    <tr>\n      <th>4</th>\n      <td>Hitches and Horlocks</td>\n      <td>Beckham off but United survive</td>\n      <td>Breast cancer screening</td>\n      <td>Alan Parker</td>\n      <td>Guardian readers  are you all whingers</td>\n      <td>Hollywood Beyond</td>\n      <td>Ashes and diamonds</td>\n      <td>Whingers   a formidable minority</td>\n      <td>Alan Parker   part two</td>\n      <td>Thuggery  Toxins and Ties</td>\n      <td>...</td>\n      <td>Most everywhere   UDIs</td>\n      <td>Most wanted   Chloe lunettes</td>\n      <td>Return of the cane  completely off the agenda</td>\n      <td>From Sleepy Hollow to Greeneland</td>\n      <td>Blunkett outlines vision for over   s</td>\n      <td>Embattled Dobson attacks  play now  pay later ...</td>\n      <td>Doom and the Dome</td>\n      <td>What is the north south divide</td>\n      <td>Aitken released from jail</td>\n      <td>Gone aloft</td>\n    </tr>\n  </tbody>\n</table>\n<p>5 rows × 25 columns</p>\n</div>"
          },
          "execution_count": 12,
          "metadata": {},
          "output_type": "execute_result"
        }
      ],
      "source": [
        "data.head()"
      ],
      "metadata": {
        "ExecuteTime": {
          "end_time": "2023-08-31T19:06:06.298807Z",
          "start_time": "2023-08-31T19:06:06.294886Z"
        },
        "id": "cbf074f575e47a02",
        "outputId": "a55bac66-09db-45ae-8676-4821f8805271"
      },
      "id": "cbf074f575e47a02"
    },
    {
      "cell_type": "code",
      "execution_count": null,
      "outputs": [],
      "source": [
        "#Lower Case\n",
        "\n",
        "for index in Index_list:\n",
        "    data[index] = data[index].str.lower()"
      ],
      "metadata": {
        "ExecuteTime": {
          "end_time": "2023-08-31T19:06:06.587654Z",
          "start_time": "2023-08-31T19:06:06.580568Z"
        },
        "id": "81b0c1b38a9a9a2a"
      },
      "id": "81b0c1b38a9a9a2a"
    },
    {
      "cell_type": "code",
      "execution_count": null,
      "outputs": [
        {
          "data": {
            "text/plain": "                                                   0  \\\n0  a  hindrance to operations   extracts from the...   \n1                                          scorecard   \n2                  coventry caught on counter by flo   \n3                      pilgrim knows how to progress   \n4                               hitches and horlocks   \n\n                                    1  \\\n0                           scorecard   \n1                 the best lake scene   \n2  united s rivals on the road to rio   \n3                 thatcher facing ban   \n4      beckham off but united survive   \n\n                                               2  \\\n0                hughes  instant hit buoys blues   \n1                  leader  german sleaze inquiry   \n2  thatcher issues defence before trial by video   \n3        mcilroy calls for irish fighting spirit   \n4                        breast cancer screening   \n\n                                               3  \\\n0       jack gets his skates on at ice cold alex   \n1                                  cheerio  boyo   \n2  police help smith lay down the law at everton   \n3                leicester bin stadium blueprint   \n4                                    alan parker   \n\n                                             4  \\\n0       chaos as maracana builds up for united   \n1                     the main recommendations   \n2  tale of trautmann bears two more retellings   \n3               united braced for mexican wave   \n4      guardian readers  are you all whingers    \n\n                                                   5  \\\n0  depleted leicester prevail as elliott spoils e...   \n1                             has cubie killed fees    \n2                                england on the rack   \n3  auntie back in fashion  even if the dress look...   \n4                                   hollywood beyond   \n\n                                                 6  \\\n0                 hungry spurs sense rich pickings   \n1                           has cubie killed fees    \n2  pakistan retaliate with call for video of walsh   \n3                    shoaib appeal goes to the top   \n4                               ashes and diamonds   \n\n                                                   7  \\\n0                  gunners so wide of an easy target   \n1                             has cubie killed fees    \n2               cullinan continues his cape monopoly   \n3  hussain hurt by  shambles  but lays blame on e...   \n4                   whingers   a formidable minority   \n\n                                                   8  \\\n0      derby raise a glass to strupar s debut double   \n1  hopkins  furious  at foster s lack of hannibal...   \n2             mcgrath puts india out of their misery   \n3                      england s decade of disasters   \n4                             alan parker   part two   \n\n                                          9  ...  \\\n0  southgate strikes  leeds pay the penalty  ...   \n1                    has cubie killed fees   ...   \n2            blair witch bandwagon rolls on  ...   \n3      revenge is sweet for jubilant cronje  ...   \n4                 thuggery  toxins and ties  ...   \n\n                                                  15  \\\n0           flintoff injury piles on woe for england   \n1                               on the critical list   \n2                        south melbourne  australia    \n3  putin admits yeltsin quit to give him a head s...   \n4                             most everywhere   udis   \n\n                                                  16  \\\n0  hunters threaten jospin with new battle of the...   \n1                          the timing of their lives   \n2                                    necaxa  mexico    \n3         bbc worst hit as digital tv begins to bite   \n4                       most wanted   chloe lunettes   \n\n                                               17  \\\n0             kohl s successor drawn into scandal   \n1                                     dear doctor   \n2                             real madrid  spain    \n3                     how much can you pay for      \n4  return of the cane  completely off the agenda    \n\n                                                  18  \\\n0               the difference between men and women   \n1  irish court halts ira man s extradition to nor...   \n2                          raja casablanca  morocco    \n3                                 christmas glitches   \n4                   from sleepy hollow to greeneland   \n\n                                                  19  \\\n0                sara denver  nurse turned solicitor   \n1  burundi peace initiative fades after rebels re...   \n2                               corinthians  brazil    \n3  upending a table  chopping a line and scoring ...   \n4              blunkett outlines vision for over   s   \n\n                                                  20  \\\n0     diana s landmine crusade put tories in a panic   \n1               pe points the way forward to the ecb   \n2                                 tony s pet project   \n3   scientific evidence  unreliable   defence claims   \n4  embattled dobson attacks  play now  pay later ...   \n\n                                                  21  \\\n0  yeltsin s resignation caught opposition flat f...   \n1  campaigners keep up pressure on nazi war crime...   \n2                            al nassr  saudi arabia    \n3     fusco wins judicial review in extradition case   \n4                                  doom and the dome   \n\n                                22  \\\n0                 russian roulette   \n1                   jane ratcliffe   \n2                ideal holmes show   \n3    rebels thwart russian advance   \n4  what is the north south divide    \n\n                                                  23  \\\n0                                           sold out   \n1  yet more things you wouldn t know without the ...   \n2               pinochet leaves hospital after tests   \n3               blair orders shake up of failing nhs   \n4                          aitken released from jail   \n\n                             24  \n0            recovering a title  \n1  millennium bug fails to bite  \n2                  useful links  \n3   lessons of law s hard heart  \n4                    gone aloft  \n\n[5 rows x 25 columns]",
            "text/html": "<div>\n<style scoped>\n    .dataframe tbody tr th:only-of-type {\n        vertical-align: middle;\n    }\n\n    .dataframe tbody tr th {\n        vertical-align: top;\n    }\n\n    .dataframe thead th {\n        text-align: right;\n    }\n</style>\n<table border=\"1\" class=\"dataframe\">\n  <thead>\n    <tr style=\"text-align: right;\">\n      <th></th>\n      <th>0</th>\n      <th>1</th>\n      <th>2</th>\n      <th>3</th>\n      <th>4</th>\n      <th>5</th>\n      <th>6</th>\n      <th>7</th>\n      <th>8</th>\n      <th>9</th>\n      <th>...</th>\n      <th>15</th>\n      <th>16</th>\n      <th>17</th>\n      <th>18</th>\n      <th>19</th>\n      <th>20</th>\n      <th>21</th>\n      <th>22</th>\n      <th>23</th>\n      <th>24</th>\n    </tr>\n  </thead>\n  <tbody>\n    <tr>\n      <th>0</th>\n      <td>a  hindrance to operations   extracts from the...</td>\n      <td>scorecard</td>\n      <td>hughes  instant hit buoys blues</td>\n      <td>jack gets his skates on at ice cold alex</td>\n      <td>chaos as maracana builds up for united</td>\n      <td>depleted leicester prevail as elliott spoils e...</td>\n      <td>hungry spurs sense rich pickings</td>\n      <td>gunners so wide of an easy target</td>\n      <td>derby raise a glass to strupar s debut double</td>\n      <td>southgate strikes  leeds pay the penalty</td>\n      <td>...</td>\n      <td>flintoff injury piles on woe for england</td>\n      <td>hunters threaten jospin with new battle of the...</td>\n      <td>kohl s successor drawn into scandal</td>\n      <td>the difference between men and women</td>\n      <td>sara denver  nurse turned solicitor</td>\n      <td>diana s landmine crusade put tories in a panic</td>\n      <td>yeltsin s resignation caught opposition flat f...</td>\n      <td>russian roulette</td>\n      <td>sold out</td>\n      <td>recovering a title</td>\n    </tr>\n    <tr>\n      <th>1</th>\n      <td>scorecard</td>\n      <td>the best lake scene</td>\n      <td>leader  german sleaze inquiry</td>\n      <td>cheerio  boyo</td>\n      <td>the main recommendations</td>\n      <td>has cubie killed fees</td>\n      <td>has cubie killed fees</td>\n      <td>has cubie killed fees</td>\n      <td>hopkins  furious  at foster s lack of hannibal...</td>\n      <td>has cubie killed fees</td>\n      <td>...</td>\n      <td>on the critical list</td>\n      <td>the timing of their lives</td>\n      <td>dear doctor</td>\n      <td>irish court halts ira man s extradition to nor...</td>\n      <td>burundi peace initiative fades after rebels re...</td>\n      <td>pe points the way forward to the ecb</td>\n      <td>campaigners keep up pressure on nazi war crime...</td>\n      <td>jane ratcliffe</td>\n      <td>yet more things you wouldn t know without the ...</td>\n      <td>millennium bug fails to bite</td>\n    </tr>\n    <tr>\n      <th>2</th>\n      <td>coventry caught on counter by flo</td>\n      <td>united s rivals on the road to rio</td>\n      <td>thatcher issues defence before trial by video</td>\n      <td>police help smith lay down the law at everton</td>\n      <td>tale of trautmann bears two more retellings</td>\n      <td>england on the rack</td>\n      <td>pakistan retaliate with call for video of walsh</td>\n      <td>cullinan continues his cape monopoly</td>\n      <td>mcgrath puts india out of their misery</td>\n      <td>blair witch bandwagon rolls on</td>\n      <td>...</td>\n      <td>south melbourne  australia</td>\n      <td>necaxa  mexico</td>\n      <td>real madrid  spain</td>\n      <td>raja casablanca  morocco</td>\n      <td>corinthians  brazil</td>\n      <td>tony s pet project</td>\n      <td>al nassr  saudi arabia</td>\n      <td>ideal holmes show</td>\n      <td>pinochet leaves hospital after tests</td>\n      <td>useful links</td>\n    </tr>\n    <tr>\n      <th>3</th>\n      <td>pilgrim knows how to progress</td>\n      <td>thatcher facing ban</td>\n      <td>mcilroy calls for irish fighting spirit</td>\n      <td>leicester bin stadium blueprint</td>\n      <td>united braced for mexican wave</td>\n      <td>auntie back in fashion  even if the dress look...</td>\n      <td>shoaib appeal goes to the top</td>\n      <td>hussain hurt by  shambles  but lays blame on e...</td>\n      <td>england s decade of disasters</td>\n      <td>revenge is sweet for jubilant cronje</td>\n      <td>...</td>\n      <td>putin admits yeltsin quit to give him a head s...</td>\n      <td>bbc worst hit as digital tv begins to bite</td>\n      <td>how much can you pay for</td>\n      <td>christmas glitches</td>\n      <td>upending a table  chopping a line and scoring ...</td>\n      <td>scientific evidence  unreliable   defence claims</td>\n      <td>fusco wins judicial review in extradition case</td>\n      <td>rebels thwart russian advance</td>\n      <td>blair orders shake up of failing nhs</td>\n      <td>lessons of law s hard heart</td>\n    </tr>\n    <tr>\n      <th>4</th>\n      <td>hitches and horlocks</td>\n      <td>beckham off but united survive</td>\n      <td>breast cancer screening</td>\n      <td>alan parker</td>\n      <td>guardian readers  are you all whingers</td>\n      <td>hollywood beyond</td>\n      <td>ashes and diamonds</td>\n      <td>whingers   a formidable minority</td>\n      <td>alan parker   part two</td>\n      <td>thuggery  toxins and ties</td>\n      <td>...</td>\n      <td>most everywhere   udis</td>\n      <td>most wanted   chloe lunettes</td>\n      <td>return of the cane  completely off the agenda</td>\n      <td>from sleepy hollow to greeneland</td>\n      <td>blunkett outlines vision for over   s</td>\n      <td>embattled dobson attacks  play now  pay later ...</td>\n      <td>doom and the dome</td>\n      <td>what is the north south divide</td>\n      <td>aitken released from jail</td>\n      <td>gone aloft</td>\n    </tr>\n  </tbody>\n</table>\n<p>5 rows × 25 columns</p>\n</div>"
          },
          "execution_count": 14,
          "metadata": {},
          "output_type": "execute_result"
        }
      ],
      "source": [
        "data.head()"
      ],
      "metadata": {
        "ExecuteTime": {
          "end_time": "2023-08-31T19:06:06.905236Z",
          "start_time": "2023-08-31T19:06:06.896535Z"
        },
        "id": "e9ede10c135b703f",
        "outputId": "ec6b00aa-bcc4-46ea-f4e6-b0c9ed3fbd82"
      },
      "id": "e9ede10c135b703f"
    },
    {
      "cell_type": "code",
      "execution_count": null,
      "outputs": [
        {
          "data": {
            "text/plain": "(3975, 25)"
          },
          "execution_count": 15,
          "metadata": {},
          "output_type": "execute_result"
        }
      ],
      "source": [
        "data.shape"
      ],
      "metadata": {
        "ExecuteTime": {
          "end_time": "2023-08-31T19:06:07.106237Z",
          "start_time": "2023-08-31T19:06:07.104005Z"
        },
        "id": "e8674b8e96278a3e",
        "outputId": "efe11c23-b7c5-4357-9c72-a425aab9abe9"
      },
      "id": "e8674b8e96278a3e"
    },
    {
      "cell_type": "code",
      "execution_count": null,
      "outputs": [],
      "source": [
        "from functools import reduce\n",
        "\n",
        "headlines = []\n",
        "\n",
        "for row in range(3975):\n",
        "    paragraph = reduce(lambda a,b:str(a)+\" \"+str(b), data.iloc[row,0:25])\n",
        "    headlines.append(paragraph)"
      ],
      "metadata": {
        "ExecuteTime": {
          "end_time": "2023-08-31T19:06:07.508742Z",
          "start_time": "2023-08-31T19:06:07.378216Z"
        },
        "id": "4a0a071ceabc928e"
      },
      "id": "4a0a071ceabc928e"
    },
    {
      "cell_type": "code",
      "execution_count": null,
      "outputs": [
        {
          "data": {
            "text/plain": "'a  hindrance to operations   extracts from the leaked reports scorecard hughes  instant hit buoys blues jack gets his skates on at ice cold alex chaos as maracana builds up for united depleted leicester prevail as elliott spoils everton s party hungry spurs sense rich pickings gunners so wide of an easy target derby raise a glass to strupar s debut double southgate strikes  leeds pay the penalty hammers hand robson a youthful lesson saints party like it s      wear wolves have turned into lambs stump mike catches testy gough s taunt langer escapes to hit     flintoff injury piles on woe for england hunters threaten jospin with new battle of the somme kohl s successor drawn into scandal the difference between men and women sara denver  nurse turned solicitor diana s landmine crusade put tories in a panic yeltsin s resignation caught opposition flat footed russian roulette sold out recovering a title'"
          },
          "execution_count": 17,
          "metadata": {},
          "output_type": "execute_result"
        }
      ],
      "source": [
        "headlines[0]"
      ],
      "metadata": {
        "ExecuteTime": {
          "end_time": "2023-08-31T19:06:07.537116Z",
          "start_time": "2023-08-31T19:06:07.532498Z"
        },
        "id": "e7b0683978760bb5",
        "outputId": "89387043-df63-4f18-d713-1b0a2f2c3b68"
      },
      "id": "e7b0683978760bb5"
    },
    {
      "cell_type": "code",
      "execution_count": null,
      "outputs": [],
      "source": [
        "#NLP Model training\n",
        "#Bag of words\n",
        "\n",
        "\n",
        "from sklearn.feature_extraction.text import CountVectorizer\n",
        "from sklearn.ensemble import RandomForestClassifier"
      ],
      "metadata": {
        "ExecuteTime": {
          "end_time": "2023-08-31T19:06:07.868791Z",
          "start_time": "2023-08-31T19:06:07.710739Z"
        },
        "id": "ca5b4af2b383ca9a"
      },
      "id": "ca5b4af2b383ca9a"
    },
    {
      "cell_type": "code",
      "execution_count": null,
      "outputs": [],
      "source": [
        "bow = CountVectorizer(ngram_range=(2,2))\n",
        "\n",
        "rf1 = RandomForestClassifier(n_estimators=200, criterion='entropy', random_state=952)"
      ],
      "metadata": {
        "ExecuteTime": {
          "end_time": "2023-08-31T19:06:07.965419Z",
          "start_time": "2023-08-31T19:06:07.931190Z"
        },
        "id": "156c43696d7bc510"
      },
      "id": "156c43696d7bc510"
    },
    {
      "cell_type": "code",
      "execution_count": null,
      "outputs": [
        {
          "data": {
            "text/plain": "RandomForestClassifier(criterion='entropy', n_estimators=200, random_state=952)",
            "text/html": "<style>#sk-container-id-1 {color: black;}#sk-container-id-1 pre{padding: 0;}#sk-container-id-1 div.sk-toggleable {background-color: white;}#sk-container-id-1 label.sk-toggleable__label {cursor: pointer;display: block;width: 100%;margin-bottom: 0;padding: 0.3em;box-sizing: border-box;text-align: center;}#sk-container-id-1 label.sk-toggleable__label-arrow:before {content: \"▸\";float: left;margin-right: 0.25em;color: #696969;}#sk-container-id-1 label.sk-toggleable__label-arrow:hover:before {color: black;}#sk-container-id-1 div.sk-estimator:hover label.sk-toggleable__label-arrow:before {color: black;}#sk-container-id-1 div.sk-toggleable__content {max-height: 0;max-width: 0;overflow: hidden;text-align: left;background-color: #f0f8ff;}#sk-container-id-1 div.sk-toggleable__content pre {margin: 0.2em;color: black;border-radius: 0.25em;background-color: #f0f8ff;}#sk-container-id-1 input.sk-toggleable__control:checked~div.sk-toggleable__content {max-height: 200px;max-width: 100%;overflow: auto;}#sk-container-id-1 input.sk-toggleable__control:checked~label.sk-toggleable__label-arrow:before {content: \"▾\";}#sk-container-id-1 div.sk-estimator input.sk-toggleable__control:checked~label.sk-toggleable__label {background-color: #d4ebff;}#sk-container-id-1 div.sk-label input.sk-toggleable__control:checked~label.sk-toggleable__label {background-color: #d4ebff;}#sk-container-id-1 input.sk-hidden--visually {border: 0;clip: rect(1px 1px 1px 1px);clip: rect(1px, 1px, 1px, 1px);height: 1px;margin: -1px;overflow: hidden;padding: 0;position: absolute;width: 1px;}#sk-container-id-1 div.sk-estimator {font-family: monospace;background-color: #f0f8ff;border: 1px dotted black;border-radius: 0.25em;box-sizing: border-box;margin-bottom: 0.5em;}#sk-container-id-1 div.sk-estimator:hover {background-color: #d4ebff;}#sk-container-id-1 div.sk-parallel-item::after {content: \"\";width: 100%;border-bottom: 1px solid gray;flex-grow: 1;}#sk-container-id-1 div.sk-label:hover label.sk-toggleable__label {background-color: #d4ebff;}#sk-container-id-1 div.sk-serial::before {content: \"\";position: absolute;border-left: 1px solid gray;box-sizing: border-box;top: 0;bottom: 0;left: 50%;z-index: 0;}#sk-container-id-1 div.sk-serial {display: flex;flex-direction: column;align-items: center;background-color: white;padding-right: 0.2em;padding-left: 0.2em;position: relative;}#sk-container-id-1 div.sk-item {position: relative;z-index: 1;}#sk-container-id-1 div.sk-parallel {display: flex;align-items: stretch;justify-content: center;background-color: white;position: relative;}#sk-container-id-1 div.sk-item::before, #sk-container-id-1 div.sk-parallel-item::before {content: \"\";position: absolute;border-left: 1px solid gray;box-sizing: border-box;top: 0;bottom: 0;left: 50%;z-index: -1;}#sk-container-id-1 div.sk-parallel-item {display: flex;flex-direction: column;z-index: 1;position: relative;background-color: white;}#sk-container-id-1 div.sk-parallel-item:first-child::after {align-self: flex-end;width: 50%;}#sk-container-id-1 div.sk-parallel-item:last-child::after {align-self: flex-start;width: 50%;}#sk-container-id-1 div.sk-parallel-item:only-child::after {width: 0;}#sk-container-id-1 div.sk-dashed-wrapped {border: 1px dashed gray;margin: 0 0.4em 0.5em 0.4em;box-sizing: border-box;padding-bottom: 0.4em;background-color: white;}#sk-container-id-1 div.sk-label label {font-family: monospace;font-weight: bold;display: inline-block;line-height: 1.2em;}#sk-container-id-1 div.sk-label-container {text-align: center;}#sk-container-id-1 div.sk-container {/* jupyter's `normalize.less` sets `[hidden] { display: none; }` but bootstrap.min.css set `[hidden] { display: none !important; }` so we also need the `!important` here to be able to override the default hidden behavior on the sphinx rendered scikit-learn.org. See: https://github.com/scikit-learn/scikit-learn/issues/21755 */display: inline-block !important;position: relative;}#sk-container-id-1 div.sk-text-repr-fallback {display: none;}</style><div id=\"sk-container-id-1\" class=\"sk-top-container\"><div class=\"sk-text-repr-fallback\"><pre>RandomForestClassifier(criterion=&#x27;entropy&#x27;, n_estimators=200, random_state=952)</pre><b>In a Jupyter environment, please rerun this cell to show the HTML representation or trust the notebook. <br />On GitHub, the HTML representation is unable to render, please try loading this page with nbviewer.org.</b></div><div class=\"sk-container\" hidden><div class=\"sk-item\"><div class=\"sk-estimator sk-toggleable\"><input class=\"sk-toggleable__control sk-hidden--visually\" id=\"sk-estimator-id-1\" type=\"checkbox\" checked><label for=\"sk-estimator-id-1\" class=\"sk-toggleable__label sk-toggleable__label-arrow\">RandomForestClassifier</label><div class=\"sk-toggleable__content\"><pre>RandomForestClassifier(criterion=&#x27;entropy&#x27;, n_estimators=200, random_state=952)</pre></div></div></div></div></div>"
          },
          "execution_count": 20,
          "metadata": {},
          "output_type": "execute_result"
        }
      ],
      "source": [
        "train_bow = bow.fit_transform(headlines)\n",
        "\n",
        "rf1.fit(train_bow,train['Label'])"
      ],
      "metadata": {
        "ExecuteTime": {
          "end_time": "2023-08-31T19:06:32.277581Z",
          "start_time": "2023-08-31T19:06:08.132862Z"
        },
        "id": "d3413e7d3f053514",
        "outputId": "c9913dd8-0e2b-4974-e63d-53151e987b85"
      },
      "id": "d3413e7d3f053514"
    },
    {
      "cell_type": "code",
      "execution_count": null,
      "outputs": [],
      "source": [
        "test_data= []\n",
        "\n",
        "for row in range(0,len(test.index)):\n",
        "    test_data.append(' '.join(str(x) for x in test.iloc[row,2:27]))\n",
        "\n",
        "test_dataset1 = bow.transform(test_data)\n"
      ],
      "metadata": {
        "ExecuteTime": {
          "end_time": "2023-08-31T19:06:32.413780Z",
          "start_time": "2023-08-31T19:06:32.321668Z"
        },
        "id": "75d1af00747904b3"
      },
      "id": "75d1af00747904b3"
    },
    {
      "cell_type": "raw",
      "source": [
        "#Predictions and Evaluations"
      ],
      "metadata": {
        "collapsed": false,
        "id": "16fd1be4ac7f1e8"
      },
      "id": "16fd1be4ac7f1e8"
    },
    {
      "cell_type": "code",
      "execution_count": null,
      "outputs": [],
      "source": [
        "pred1 = rf1.predict(test_dataset1)"
      ],
      "metadata": {
        "ExecuteTime": {
          "end_time": "2023-08-31T19:06:32.575664Z",
          "start_time": "2023-08-31T19:06:32.414346Z"
        },
        "id": "c741de29b7b33b79"
      },
      "id": "c741de29b7b33b79"
    },
    {
      "cell_type": "code",
      "execution_count": null,
      "outputs": [
        {
          "name": "stdout",
          "output_type": "stream",
          "text": [
            "[[142  44]\n",
            " [  9 183]]\n",
            "              precision    recall  f1-score   support\n",
            "\n",
            "           0       0.94      0.76      0.84       186\n",
            "           1       0.81      0.95      0.87       192\n",
            "\n",
            "    accuracy                           0.86       378\n",
            "   macro avg       0.87      0.86      0.86       378\n",
            "weighted avg       0.87      0.86      0.86       378\n"
          ]
        }
      ],
      "source": [
        "from sklearn.metrics import classification_report, confusion_matrix, accuracy_score\n",
        "\n",
        "cf=confusion_matrix(test['Label'],pred1)\n",
        "print(cf)\n",
        "cr=classification_report(test['Label'],pred1)\n",
        "print(cr)"
      ],
      "metadata": {
        "ExecuteTime": {
          "end_time": "2023-08-31T19:06:32.585680Z",
          "start_time": "2023-08-31T19:06:32.577199Z"
        },
        "id": "e93a059cc7d79f54",
        "outputId": "a96fe3c7-ec3b-412f-af5b-2c6931971805"
      },
      "id": "e93a059cc7d79f54"
    },
    {
      "cell_type": "code",
      "execution_count": null,
      "outputs": [
        {
          "name": "stdout",
          "output_type": "stream",
          "text": [
            "0.8597883597883598\n"
          ]
        }
      ],
      "source": [
        "acc= accuracy_score(test['Label'],pred1)\n",
        "print(acc)"
      ],
      "metadata": {
        "ExecuteTime": {
          "end_time": "2023-08-31T19:06:32.585935Z",
          "start_time": "2023-08-31T19:06:32.583223Z"
        },
        "id": "224dd8ba3c4f7544",
        "outputId": "f07525ca-bc2e-4ab9-e8d7-e7afa294247d"
      },
      "id": "224dd8ba3c4f7544"
    },
    {
      "cell_type": "code",
      "execution_count": null,
      "outputs": [],
      "source": [],
      "metadata": {
        "id": "4407c84fda015ae"
      },
      "id": "4407c84fda015ae"
    }
  ],
  "metadata": {
    "kernelspec": {
      "display_name": "Python 3",
      "language": "python",
      "name": "python3"
    },
    "language_info": {
      "codemirror_mode": {
        "name": "ipython",
        "version": 2
      },
      "file_extension": ".py",
      "mimetype": "text/x-python",
      "name": "python",
      "nbconvert_exporter": "python",
      "pygments_lexer": "ipython2",
      "version": "2.7.6"
    },
    "colab": {
      "provenance": [],
      "include_colab_link": true
    }
  },
  "nbformat": 4,
  "nbformat_minor": 5
}